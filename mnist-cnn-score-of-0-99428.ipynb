{
 "cells": [
  {
   "cell_type": "markdown",
   "metadata": {},
   "source": [
    "# A Walkthrough CNN with Keras"
   ]
  },
  {
   "cell_type": "markdown",
   "metadata": {},
   "source": [
    "## Import Required Libraries"
   ]
  },
  {
   "cell_type": "code",
   "execution_count": 1,
   "metadata": {
    "_cell_guid": "b1076dfc-b9ad-4769-8c92-a6c4dae69d19",
    "_uuid": "8f2839f25d086af736a60e9eeb907d3b93b6e0e5"
   },
   "outputs": [
    {
     "name": "stderr",
     "output_type": "stream",
     "text": [
      "Using TensorFlow backend.\n",
      "/opt/conda/lib/python3.6/site-packages/tensorflow/python/framework/dtypes.py:516: FutureWarning: Passing (type, 1) or '1type' as a synonym of type is deprecated; in a future version of numpy, it will be understood as (type, (1,)) / '(1,)type'.\n",
      "  _np_qint8 = np.dtype([(\"qint8\", np.int8, 1)])\n",
      "/opt/conda/lib/python3.6/site-packages/tensorflow/python/framework/dtypes.py:517: FutureWarning: Passing (type, 1) or '1type' as a synonym of type is deprecated; in a future version of numpy, it will be understood as (type, (1,)) / '(1,)type'.\n",
      "  _np_quint8 = np.dtype([(\"quint8\", np.uint8, 1)])\n",
      "/opt/conda/lib/python3.6/site-packages/tensorflow/python/framework/dtypes.py:518: FutureWarning: Passing (type, 1) or '1type' as a synonym of type is deprecated; in a future version of numpy, it will be understood as (type, (1,)) / '(1,)type'.\n",
      "  _np_qint16 = np.dtype([(\"qint16\", np.int16, 1)])\n",
      "/opt/conda/lib/python3.6/site-packages/tensorflow/python/framework/dtypes.py:519: FutureWarning: Passing (type, 1) or '1type' as a synonym of type is deprecated; in a future version of numpy, it will be understood as (type, (1,)) / '(1,)type'.\n",
      "  _np_quint16 = np.dtype([(\"quint16\", np.uint16, 1)])\n",
      "/opt/conda/lib/python3.6/site-packages/tensorflow/python/framework/dtypes.py:520: FutureWarning: Passing (type, 1) or '1type' as a synonym of type is deprecated; in a future version of numpy, it will be understood as (type, (1,)) / '(1,)type'.\n",
      "  _np_qint32 = np.dtype([(\"qint32\", np.int32, 1)])\n",
      "/opt/conda/lib/python3.6/site-packages/tensorflow/python/framework/dtypes.py:525: FutureWarning: Passing (type, 1) or '1type' as a synonym of type is deprecated; in a future version of numpy, it will be understood as (type, (1,)) / '(1,)type'.\n",
      "  np_resource = np.dtype([(\"resource\", np.ubyte, 1)])\n",
      "/opt/conda/lib/python3.6/site-packages/tensorboard/compat/tensorflow_stub/dtypes.py:541: FutureWarning: Passing (type, 1) or '1type' as a synonym of type is deprecated; in a future version of numpy, it will be understood as (type, (1,)) / '(1,)type'.\n",
      "  _np_qint8 = np.dtype([(\"qint8\", np.int8, 1)])\n",
      "/opt/conda/lib/python3.6/site-packages/tensorboard/compat/tensorflow_stub/dtypes.py:542: FutureWarning: Passing (type, 1) or '1type' as a synonym of type is deprecated; in a future version of numpy, it will be understood as (type, (1,)) / '(1,)type'.\n",
      "  _np_quint8 = np.dtype([(\"quint8\", np.uint8, 1)])\n",
      "/opt/conda/lib/python3.6/site-packages/tensorboard/compat/tensorflow_stub/dtypes.py:543: FutureWarning: Passing (type, 1) or '1type' as a synonym of type is deprecated; in a future version of numpy, it will be understood as (type, (1,)) / '(1,)type'.\n",
      "  _np_qint16 = np.dtype([(\"qint16\", np.int16, 1)])\n",
      "/opt/conda/lib/python3.6/site-packages/tensorboard/compat/tensorflow_stub/dtypes.py:544: FutureWarning: Passing (type, 1) or '1type' as a synonym of type is deprecated; in a future version of numpy, it will be understood as (type, (1,)) / '(1,)type'.\n",
      "  _np_quint16 = np.dtype([(\"quint16\", np.uint16, 1)])\n",
      "/opt/conda/lib/python3.6/site-packages/tensorboard/compat/tensorflow_stub/dtypes.py:545: FutureWarning: Passing (type, 1) or '1type' as a synonym of type is deprecated; in a future version of numpy, it will be understood as (type, (1,)) / '(1,)type'.\n",
      "  _np_qint32 = np.dtype([(\"qint32\", np.int32, 1)])\n",
      "/opt/conda/lib/python3.6/site-packages/tensorboard/compat/tensorflow_stub/dtypes.py:550: FutureWarning: Passing (type, 1) or '1type' as a synonym of type is deprecated; in a future version of numpy, it will be understood as (type, (1,)) / '(1,)type'.\n",
      "  np_resource = np.dtype([(\"resource\", np.ubyte, 1)])\n"
     ]
    }
   ],
   "source": [
    "import numpy as np\n",
    "import pandas as pd\n",
    "from sklearn.model_selection import train_test_split\n",
    "from keras.models import Sequential\n",
    "from keras.layers import Dense, Dropout, Flatten, Conv2D, MaxPooling2D\n",
    "from keras.utils import np_utils\n",
    "from keras.callbacks import ReduceLROnPlateau\n",
    "import matplotlib.pyplot as plt\n",
    "import matplotlib.cm as cm\n",
    "%matplotlib inline"
   ]
  },
  {
   "cell_type": "markdown",
   "metadata": {},
   "source": [
    "## Loading The Data"
   ]
  },
  {
   "cell_type": "code",
   "execution_count": 2,
   "metadata": {},
   "outputs": [],
   "source": [
    "train = pd.read_csv(\"../input/digit-recognizer/train.csv\")\n",
    "test = pd.read_csv(\"../input/digit-recognizer/test.csv\")"
   ]
  },
  {
   "cell_type": "code",
   "execution_count": 3,
   "metadata": {},
   "outputs": [],
   "source": [
    "Y_train = train[\"label\"]\n",
    "X_train = train.drop(labels = [\"label\"],axis = 1) "
   ]
  },
  {
   "cell_type": "markdown",
   "metadata": {},
   "source": [
    "### Check for Null or Missing Values"
   ]
  },
  {
   "cell_type": "code",
   "execution_count": 4,
   "metadata": {},
   "outputs": [
    {
     "data": {
      "text/plain": [
       "count       784\n",
       "unique        1\n",
       "top       False\n",
       "freq        784\n",
       "dtype: object"
      ]
     },
     "execution_count": 4,
     "metadata": {},
     "output_type": "execute_result"
    }
   ],
   "source": [
    "X_train.isnull().any().describe()"
   ]
  },
  {
   "cell_type": "code",
   "execution_count": 5,
   "metadata": {},
   "outputs": [
    {
     "data": {
      "text/plain": [
       "count       784\n",
       "unique        1\n",
       "top       False\n",
       "freq        784\n",
       "dtype: object"
      ]
     },
     "execution_count": 5,
     "metadata": {},
     "output_type": "execute_result"
    }
   ],
   "source": [
    "test.isnull().any().describe()"
   ]
  },
  {
   "cell_type": "markdown",
   "metadata": {},
   "source": [
    "### Normalization, Reshaping, Label Encoding"
   ]
  },
  {
   "cell_type": "code",
   "execution_count": 6,
   "metadata": {},
   "outputs": [],
   "source": [
    "X_train = X_train/255.0\n",
    "test = test/255.0\n",
    "\n",
    "X_train = X_train.values.reshape(-1,28,28,1)\n",
    "test = test.values.reshape(-1,28,28,1)"
   ]
  },
  {
   "cell_type": "markdown",
   "metadata": {},
   "source": [
    "## Examining the Training Data"
   ]
  },
  {
   "cell_type": "code",
   "execution_count": 7,
   "metadata": {},
   "outputs": [
    {
     "data": {
      "image/png": "[encoded data removed]",
      "text/plain": [
       "<Figure size 1440x1440 with 5 Axes>"
      ]
     },
     "metadata": {},
     "output_type": "display_data"
    }
   ],
   "source": [
    "# plotting the first five training images\n",
    "fig = plt.figure(figsize=(20,20))\n",
    "for i in range(5):\n",
    "    ax = fig.add_subplot(1, 5, i+1, xticks=[], yticks=[])\n",
    "    ax.imshow(X_train[i].reshape(28,28), cmap='gray')\n",
    "    ax.set_title(str(Y_train[i]))"
   ]
  },
  {
   "cell_type": "markdown",
   "metadata": {},
   "source": [
    "## Applying One-hot Encoding to Labels"
   ]
  },
  {
   "cell_type": "code",
   "execution_count": 8,
   "metadata": {},
   "outputs": [
    {
     "name": "stdout",
     "output_type": "stream",
     "text": [
      "One-hot Encoded labels:\n",
      "[[0. 1. 0. 0. 0. 0. 0. 0. 0. 0.]\n",
      " [1. 0. 0. 0. 0. 0. 0. 0. 0. 0.]\n",
      " [0. 1. 0. 0. 0. 0. 0. 0. 0. 0.]\n",
      " [0. 0. 0. 0. 1. 0. 0. 0. 0. 0.]\n",
      " [1. 0. 0. 0. 0. 0. 0. 0. 0. 0.]\n",
      " [1. 0. 0. 0. 0. 0. 0. 0. 0. 0.]\n",
      " [0. 0. 0. 0. 0. 0. 0. 1. 0. 0.]\n",
      " [0. 0. 0. 1. 0. 0. 0. 0. 0. 0.]\n",
      " [0. 0. 0. 0. 0. 1. 0. 0. 0. 0.]\n",
      " [0. 0. 0. 1. 0. 0. 0. 0. 0. 0.]]\n"
     ]
    }
   ],
   "source": [
    "Y_train = np_utils.to_categorical(Y_train, num_classes=10)\n",
    "\n",
    "# print the first five encoded training labels\n",
    "print('One-hot Encoded labels:')\n",
    "print(Y_train[:10])"
   ]
  },
  {
   "cell_type": "markdown",
   "metadata": {},
   "source": [
    "### Splitting the Data"
   ]
  },
  {
   "cell_type": "code",
   "execution_count": 9,
   "metadata": {},
   "outputs": [
    {
     "name": "stdout",
     "output_type": "stream",
     "text": [
      "(37800, 28, 28, 1) (37800, 10)\n"
     ]
    }
   ],
   "source": [
    "random_seed = 2\n",
    "X_train, X_val, Y_train, Y_val = train_test_split(X_train, Y_train, test_size = 0.1, random_state=random_seed)\n",
    "print(X_train.shape, Y_train.shape)"
   ]
  },
  {
   "cell_type": "markdown",
   "metadata": {},
   "source": [
    "## The Model"
   ]
  },
  {
   "cell_type": "code",
   "execution_count": 10,
   "metadata": {},
   "outputs": [],
   "source": [
    "model = Sequential()\n",
    "model.add(Conv2D(filters=64, kernel_size=3, padding='same', activation='relu', input_shape=(28,28,1)))\n",
    "model.add(Conv2D(filters=64, kernel_size=3, padding='same', activation='relu'))\n",
    "model.add(Conv2D(filters=128, kernel_size=3, padding='same', activation='relu'))\n",
    "model.add(MaxPooling2D(pool_size=2))\n",
    "model.add(Conv2D(filters=128, kernel_size=3, padding='same', activation='relu'))\n",
    "model.add(Conv2D(filters=192, kernel_size=3, padding='same', activation='relu'))\n",
    "model.add(MaxPooling2D(pool_size=2))\n",
    "model.add(Conv2D(filters=192, kernel_size=5, padding='same', activation='relu'))\n",
    "model.add(MaxPooling2D(pool_size=2, padding='same'))\n",
    "model.add(Flatten())\n",
    "model.add(Dense(256, activation='relu'))\n",
    "model.add(Dropout(0.5))\n",
    "model.add(Dense(10, activation='softmax'))"
   ]
  },
  {
   "cell_type": "code",
   "execution_count": 11,
   "metadata": {},
   "outputs": [],
   "source": [
    "model.compile(loss='categorical_crossentropy', optimizer='adam', metrics=['accuracy'])"
   ]
  },
  {
   "cell_type": "code",
   "execution_count": 12,
   "metadata": {},
   "outputs": [
    {
     "name": "stdout",
     "output_type": "stream",
     "text": [
      "Train on 37800 samples, validate on 4200 samples\n",
      "Epoch 1/30\n",
      "37800/37800 [==============================] - 12s 314us/step - loss: 0.2097 - acc: 0.9319 - val_loss: 0.0428 - val_acc: 0.9876\n",
      "Epoch 2/30\n",
      "37800/37800 [==============================] - 9s 225us/step - loss: 0.0568 - acc: 0.9837 - val_loss: 0.0388 - val_acc: 0.9900\n",
      "Epoch 3/30\n",
      "37800/37800 [==============================] - 9s 225us/step - loss: 0.0397 - acc: 0.9890 - val_loss: 0.0372 - val_acc: 0.9895\n",
      "Epoch 4/30\n",
      "37800/37800 [==============================] - 9s 225us/step - loss: 0.0298 - acc: 0.9911 - val_loss: 0.0297 - val_acc: 0.9926\n",
      "Epoch 5/30\n",
      "37800/37800 [==============================] - 8s 225us/step - loss: 0.0226 - acc: 0.9937 - val_loss: 0.0328 - val_acc: 0.9929\n",
      "Epoch 6/30\n",
      "37800/37800 [==============================] - 9s 226us/step - loss: 0.0210 - acc: 0.9939 - val_loss: 0.0326 - val_acc: 0.9919\n",
      "Epoch 7/30\n",
      "37800/37800 [==============================] - 8s 224us/step - loss: 0.0177 - acc: 0.9950 - val_loss: 0.0574 - val_acc: 0.9869\n",
      "Epoch 8/30\n",
      "37800/37800 [==============================] - 8s 224us/step - loss: 0.0170 - acc: 0.9950 - val_loss: 0.0453 - val_acc: 0.9907\n",
      "Epoch 9/30\n",
      "37800/37800 [==============================] - 8s 224us/step - loss: 0.0136 - acc: 0.9963 - val_loss: 0.0273 - val_acc: 0.9929\n",
      "Epoch 10/30\n",
      "37800/37800 [==============================] - 8s 225us/step - loss: 0.0121 - acc: 0.9962 - val_loss: 0.0299 - val_acc: 0.9933\n",
      "Epoch 11/30\n",
      "37800/37800 [==============================] - 8s 224us/step - loss: 0.0124 - acc: 0.9964 - val_loss: 0.0353 - val_acc: 0.9931\n",
      "Epoch 12/30\n",
      "37800/37800 [==============================] - 8s 224us/step - loss: 0.0143 - acc: 0.9962 - val_loss: 0.0356 - val_acc: 0.9898\n",
      "\n",
      "Epoch 00012: ReduceLROnPlateau reducing learning rate to 0.0003000000142492354.\n",
      "Epoch 13/30\n",
      "37800/37800 [==============================] - 8s 224us/step - loss: 0.0052 - acc: 0.9984 - val_loss: 0.0249 - val_acc: 0.9948\n",
      "Epoch 14/30\n",
      "37800/37800 [==============================] - 9s 225us/step - loss: 0.0018 - acc: 0.9997 - val_loss: 0.0270 - val_acc: 0.9945\n",
      "Epoch 15/30\n",
      "37800/37800 [==============================] - 8s 224us/step - loss: 0.0011 - acc: 0.9998 - val_loss: 0.0307 - val_acc: 0.9945\n",
      "Epoch 16/30\n",
      "37800/37800 [==============================] - 8s 225us/step - loss: 0.0013 - acc: 0.9997 - val_loss: 0.0409 - val_acc: 0.9936\n",
      "Epoch 17/30\n",
      "37800/37800 [==============================] - 8s 224us/step - loss: 8.1903e-04 - acc: 0.9999 - val_loss: 0.0416 - val_acc: 0.9943\n",
      "Epoch 18/30\n",
      "37800/37800 [==============================] - 8s 224us/step - loss: 9.1228e-04 - acc: 0.9998 - val_loss: 0.0397 - val_acc: 0.9940\n",
      "Epoch 19/30\n",
      "37800/37800 [==============================] - 8s 224us/step - loss: 0.0013 - acc: 0.9997 - val_loss: 0.0459 - val_acc: 0.9936\n",
      "\n",
      "Epoch 00019: ReduceLROnPlateau reducing learning rate to 9.000000427477062e-05.\n",
      "Epoch 20/30\n",
      "37800/37800 [==============================] - 8s 224us/step - loss: 8.5311e-04 - acc: 0.9998 - val_loss: 0.0399 - val_acc: 0.9945\n",
      "Epoch 21/30\n",
      "37800/37800 [==============================] - 9s 231us/step - loss: 5.0783e-04 - acc: 1.0000 - val_loss: 0.0386 - val_acc: 0.9945\n",
      "Epoch 22/30\n",
      "37800/37800 [==============================] - 9s 226us/step - loss: 5.8083e-04 - acc: 0.9999 - val_loss: 0.0377 - val_acc: 0.9950\n",
      "Epoch 23/30\n",
      "37800/37800 [==============================] - 8s 224us/step - loss: 6.0921e-04 - acc: 0.9999 - val_loss: 0.0390 - val_acc: 0.9945\n",
      "\n",
      "Epoch 00023: ReduceLROnPlateau reducing learning rate to 2.700000040931627e-05.\n",
      "Epoch 24/30\n",
      "37800/37800 [==============================] - 8s 224us/step - loss: 5.1687e-04 - acc: 0.9999 - val_loss: 0.0389 - val_acc: 0.9950\n",
      "Epoch 25/30\n",
      "37800/37800 [==============================] - 8s 224us/step - loss: 5.5234e-04 - acc: 0.9999 - val_loss: 0.0397 - val_acc: 0.9945\n",
      "\n",
      "Epoch 00025: ReduceLROnPlateau reducing learning rate to 8.100000013655517e-06.\n",
      "Epoch 26/30\n",
      "37800/37800 [==============================] - 8s 224us/step - loss: 4.9996e-04 - acc: 0.9999 - val_loss: 0.0398 - val_acc: 0.9945\n",
      "Epoch 27/30\n",
      "37800/37800 [==============================] - 9s 225us/step - loss: 5.2694e-04 - acc: 0.9999 - val_loss: 0.0395 - val_acc: 0.9945\n",
      "\n",
      "Epoch 00027: ReduceLROnPlateau reducing learning rate to 2.429999949526973e-06.\n",
      "Epoch 28/30\n",
      "37800/37800 [==============================] - 8s 225us/step - loss: 5.6881e-04 - acc: 0.9999 - val_loss: 0.0396 - val_acc: 0.9945\n",
      "Epoch 29/30\n",
      "37800/37800 [==============================] - 8s 224us/step - loss: 5.0265e-04 - acc: 0.9999 - val_loss: 0.0397 - val_acc: 0.9945\n",
      "\n",
      "Epoch 00029: ReduceLROnPlateau reducing learning rate to 7.289999985005124e-07.\n",
      "Epoch 30/30\n",
      "37800/37800 [==============================] - 9s 226us/step - loss: 5.7300e-04 - acc: 0.9999 - val_loss: 0.0397 - val_acc: 0.9945\n"
     ]
    }
   ],
   "source": [
    "reduce_lr = ReduceLROnPlateau(monitor='loss',\n",
    "                              factor=0.3, \n",
    "                              verbose=1,\n",
    "                              patience=2, \n",
    "                              min_lr=0.00000001)\n",
    "\n",
    "hist = model.fit(X_train, \n",
    "                 Y_train, \n",
    "                 batch_size=100, \n",
    "                 epochs=30,\n",
    "                 validation_data=(X_val, Y_val), \n",
    "                 callbacks=[reduce_lr],\n",
    "                 verbose=1, \n",
    "                 shuffle=True)"
   ]
  },
  {
   "cell_type": "code",
   "execution_count": 13,
   "metadata": {},
   "outputs": [],
   "source": [
    "Y_test = model.predict_classes(test, verbose=2)"
   ]
  },
  {
   "cell_type": "code",
   "execution_count": 14,
   "metadata": {},
   "outputs": [],
   "source": [
    "submission = pd.read_csv('../input/digit-recognizer/sample_submission.csv')\n",
    "submission['Label'] = Y_test\n",
    "submission.to_csv('submission.csv',index=False)"
   ]
  }
 ],
 "metadata": {
  "kernelspec": {
   "display_name": "Python 3",
   "language": "python",
   "name": "python3"
  },
  "language_info": {
   "codemirror_mode": {
    "name": "ipython",
    "version": 3
   },
   "file_extension": ".py",
   "mimetype": "text/x-python",
   "name": "python",
   "nbconvert_exporter": "python",
   "pygments_lexer": "ipython3",
   "version": "3.6.6"
  }
 },
 "nbformat": 4,
 "nbformat_minor": 1
}
